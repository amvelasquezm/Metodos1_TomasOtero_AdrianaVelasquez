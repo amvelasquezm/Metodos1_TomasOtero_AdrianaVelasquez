{
 "cells": [
  {
   "cell_type": "markdown",
   "id": "466587d1",
   "metadata": {},
   "source": [
    "# Taller 2\n",
    "\n",
    "* Tomás Otéro\n",
    "* Adriana Velásquez"
   ]
  },
  {
   "cell_type": "markdown",
   "id": "f4da2dc0",
   "metadata": {},
   "source": [
    "### 1. Derivación: Problema 8 \n",
    "\n",
    "Es posible construir una aproximación de orden O(h^2) para la derivada progresiva. Para\n",
    "tal propósito, se escribe el polinomio de interpolación de grado 2 para el conjunto soporte Ω = {(x0, f(x0)),(x1, f(x1)),(x2, f(x2))}, y posteriormente se calcula la derivada de este\n",
    "polinomio."
   ]
  },
  {
   "cell_type": "code",
   "execution_count": null,
   "id": "a91449a8",
   "metadata": {},
   "outputs": [],
   "source": []
  }
 ],
 "metadata": {
  "kernelspec": {
   "display_name": "Python 3 (ipykernel)",
   "language": "python",
   "name": "python3"
  },
  "language_info": {
   "codemirror_mode": {
    "name": "ipython",
    "version": 3
   },
   "file_extension": ".py",
   "mimetype": "text/x-python",
   "name": "python",
   "nbconvert_exporter": "python",
   "pygments_lexer": "ipython3",
   "version": "3.9.12"
  }
 },
 "nbformat": 4,
 "nbformat_minor": 5
}
