{
 "cells": [
  {
   "cell_type": "markdown",
   "id": "ece9bc20",
   "metadata": {},
   "source": [
    "# 2.0.1 Números Factoriales\n"
   ]
  },
  {
   "cell_type": "code",
   "execution_count": 1,
   "id": "2e805457",
   "metadata": {},
   "outputs": [],
   "source": [
    "%matplotlib notebook\n",
    "import numpy as np\n",
    "import matplotlib.pyplot as plt"
   ]
  },
  {
   "attachments": {},
   "cell_type": "markdown",
   "id": "5cb614f6",
   "metadata": {},
   "source": [
    "**1. Escriba una función que calcule el factorial de n, con n en los números naturales. Calcule los primeros 20 números factoriales**"
   ]
  },
  {
   "cell_type": "code",
   "execution_count": 12,
   "id": "bc2414a3",
   "metadata": {},
   "outputs": [
    {
     "name": "stdout",
     "output_type": "stream",
     "text": [
      "1\n",
      "1\n",
      "2\n",
      "6\n",
      "24\n",
      "120\n",
      "720\n",
      "5040\n",
      "40320\n",
      "362880\n",
      "3628800\n",
      "39916800\n",
      "479001600\n",
      "6227020800\n",
      "87178291200\n",
      "1307674368000\n",
      "20922789888000\n",
      "355687428096000\n",
      "6402373705728000\n",
      "121645100408832000\n"
     ]
    }
   ],
   "source": [
    "def getFactorial(n):\n",
    "    return np.math.factorial(n)\n",
    "\n",
    "for i in range(20):\n",
    "    print(getFactorial(i))\n",
    "    "
   ]
  },
  {
   "attachments": {},
   "cell_type": "markdown",
   "id": "0659c1f4",
   "metadata": {},
   "source": [
    "**2. Escriba una función que calcule las variaciones sin repetición de n elemenos tomados de\n",
    "r en r:**\n",
    "\n",
    "**a) Calcule de cuantas maneras puedo ubicar 6 carros en 3 estacionamientos. Ans: 120**\n",
    "\n"
   ]
  },
  {
   "cell_type": "code",
   "execution_count": 22,
   "id": "690efa23",
   "metadata": {},
   "outputs": [
    {
     "name": "stdout",
     "output_type": "stream",
     "text": [
      "120.0\n"
     ]
    }
   ],
   "source": [
    "def getVariation(n, r):\n",
    "    return np.math.factorial(n)/np.math.factorial(n-r)\n",
    "\n",
    "print(getVariation(6, 3))"
   ]
  }
 ],
 "metadata": {
  "kernelspec": {
   "display_name": "base",
   "language": "python",
   "name": "python3"
  },
  "language_info": {
   "codemirror_mode": {
    "name": "ipython",
    "version": 3
   },
   "file_extension": ".py",
   "mimetype": "text/x-python",
   "name": "python",
   "nbconvert_exporter": "python",
   "pygments_lexer": "ipython3",
   "version": "3.9.12"
  },
  "vscode": {
   "interpreter": {
    "hash": "0c1e16a9fb8d2528dcdffc3a0edb286d66d7d78f3f79d7c6fb1106069c366faa"
   }
  }
 },
 "nbformat": 4,
 "nbformat_minor": 5
}
