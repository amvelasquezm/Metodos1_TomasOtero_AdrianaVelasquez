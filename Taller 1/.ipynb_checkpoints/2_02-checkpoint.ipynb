{
 "cells": [
  {
   "cell_type": "markdown",
   "id": "ece9bc20",
   "metadata": {},
   "source": [
    "# 2.0.1 Números Factoriales\n"
   ]
  },
  {
   "cell_type": "code",
   "execution_count": 3,
   "id": "2e805457",
   "metadata": {},
   "outputs": [],
   "source": [
    "%matplotlib notebook\n",
    "import numpy as np\n",
    "import matplotlib.pyplot as plt"
   ]
  },
  {
   "cell_type": "markdown",
   "id": "5cb614f6",
   "metadata": {},
   "source": [
    "### 1. Escriba una función que calcule el factorial de n, con n en los números naturales. Calcule los primeros 20 números factoriales"
   ]
  },
  {
   "cell_type": "code",
   "execution_count": 4,
   "id": "bc2414a3",
   "metadata": {},
   "outputs": [
    {
     "name": "stdout",
     "output_type": "stream",
     "text": [
      "3\n"
     ]
    }
   ],
   "source": [
    "print(3)"
   ]
  },
  {
   "cell_type": "code",
   "execution_count": null,
   "id": "0659c1f4",
   "metadata": {},
   "outputs": [],
   "source": []
  }
 ],
 "metadata": {
  "kernelspec": {
   "display_name": "Python 3 (ipykernel)",
   "language": "python",
   "name": "python3"
  },
  "language_info": {
   "codemirror_mode": {
    "name": "ipython",
    "version": 3
   },
   "file_extension": ".py",
   "mimetype": "text/x-python",
   "name": "python",
   "nbconvert_exporter": "python",
   "pygments_lexer": "ipython3",
   "version": "3.9.12"
  }
 },
 "nbformat": 4,
 "nbformat_minor": 5
}
