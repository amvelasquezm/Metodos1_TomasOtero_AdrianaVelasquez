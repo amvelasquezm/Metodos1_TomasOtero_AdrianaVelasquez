{
 "cells": [
  {
   "cell_type": "code",
   "execution_count": 1,
   "metadata": {},
   "outputs": [],
   "source": [
    "import numpy as np\n",
    "import matplotlib.pyplot as plt\n",
    "import matplotlib.animation as anim\n",
    "from tqdm import tqdm"
   ]
  },
  {
   "cell_type": "code",
   "execution_count": 10,
   "metadata": {},
   "outputs": [],
   "source": [
    "class Particle:\n",
    "    def __init__(self,r0,v0,a0,t,m=1,radius=0.3,Id=0):\n",
    "\n",
    "        self.dt = t[1] -t[0]\n",
    "\n",
    "        self.v = v0\n",
    "        self.r = r0\n",
    "        self.a = a0\n",
    "\n",
    "        self.R = np.zeros((len(t),len(r0)))\n",
    "        self.V = np.zeros_like(self.R)\n",
    "        self.A = np.zeros_like(self.R)\n",
    "\n",
    "        self.radius = radius\n",
    "        self.m = m\n",
    "\n",
    "\n",
    "    def SetPosition(self,i):\n",
    "        self.R[i] = self.r\n",
    "\n",
    "    def GetPosition(self,scale=1):\n",
    "        return self.R[::scale]\n",
    "\n",
    "    def SetVelocity(self,i):\n",
    "        self.V[i] = self.v\n",
    "\n",
    "    def GetVelocity(self,scale=1):\n",
    "        return self.V[::scale]\n",
    "\n",
    "    def Evolution(self,i):\n",
    "        self.SetPosition(i)\n",
    "\n",
    "        self.r += self.v*self.dt\n",
    "\n",
    "        "
   ]
  },
  {
   "cell_type": "code",
   "execution_count": 17,
   "metadata": {},
   "outputs": [],
   "source": [
    "def RunSimulation(t):\n",
    "\n",
    "    r0 = np.array([0.1,0.1])\n",
    "    v0 = np.array([1,5])\n",
    "    a0 = np.array([0,0])\n",
    "\n",
    "    p1 = Particle(r0,v0,a0,t)\n",
    "\n",
    "    for it in tqdm(range(len(t))):\n",
    "        p1.Evolution(it)\n",
    "    \n",
    "    return p1"
   ]
  },
  {
   "cell_type": "code",
   "execution_count": 18,
   "metadata": {},
   "outputs": [
    {
     "name": "stderr",
     "output_type": "stream",
     "text": [
      "100%|██████████| 100/100 [00:00<00:00, 75193.69it/s]\n"
     ]
    }
   ],
   "source": [
    "dt = 0.01\n",
    "tmax = 1\n",
    "t = np.arange(0,tmax,dt)\n",
    "Particles = RunSimulation(t)"
   ]
  }
 ],
 "metadata": {
  "kernelspec": {
   "display_name": "base",
   "language": "python",
   "name": "python3"
  },
  "language_info": {
   "codemirror_mode": {
    "name": "ipython",
    "version": 3
   },
   "file_extension": ".py",
   "mimetype": "text/x-python",
   "name": "python",
   "nbconvert_exporter": "python",
   "pygments_lexer": "ipython3",
   "version": "3.9.13"
  },
  "orig_nbformat": 4,
  "vscode": {
   "interpreter": {
    "hash": "e49ad1be67d84e8c05f1355bfb4687abe6018e3beac2c9859fbf3b6d3966e0f5"
   }
  }
 },
 "nbformat": 4,
 "nbformat_minor": 2
}
