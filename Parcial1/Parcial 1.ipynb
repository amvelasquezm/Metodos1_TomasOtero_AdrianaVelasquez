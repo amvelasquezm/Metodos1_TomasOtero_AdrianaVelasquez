{
 "cells": [
  {
   "cell_type": "markdown",
   "id": "26ca671c",
   "metadata": {},
   "source": [
    "Vamos a hacer el ejecicicio 9 de derivación"
   ]
  },
  {
   "cell_type": "code",
   "execution_count": 4,
   "id": "006556ac",
   "metadata": {},
   "outputs": [
    {
     "data": {
      "text/plain": [
       "[1/(12*h), -2/(3*h), 0, 2/(3*h), -1/(12*h)]"
      ]
     },
     "execution_count": 4,
     "metadata": {},
     "output_type": "execute_result"
    }
   ],
   "source": [
    "import sympy as sym\n",
    "import numpy as np\n",
    "\n",
    "x = sym.Symbol(\"x\",real=True)\n",
    "h = sym.Symbol(\"h\",real=True)\n",
    "X=np.array([-2*h,-1*h,0*h,1*h,2*h])\n",
    "def Lagrange(x,xi,j):\n",
    "    \n",
    "    prod = 1\n",
    "    n = len(xi)\n",
    "    \n",
    "    for i in range(n):\n",
    "        if i != j:\n",
    "            prod *= (x - xi[i])/(xi[j]-xi[i])\n",
    "            \n",
    "    return prod\n",
    "\n",
    "def GetCoefficients(x,p,X):\n",
    "    Coefficients = []\n",
    "    for i in range(len(X)):\n",
    "        Li = Lagrange(x,X,i)\n",
    "        dLi = sym.diff(Li,x,1)\n",
    "        C = dLi.subs(x,X[p])\n",
    "        Coefficients.append(C)\n",
    "    return Coefficients\n",
    "\n",
    "GetCoefficients(x,2,X)"
   ]
  },
  {
   "cell_type": "markdown",
   "id": "a0e81978",
   "metadata": {},
   "source": [
    "El error de aproximación en un polinomio de interpolación se puede expresar como $\\frac{f^{n+1}(ξ_x)}{(n + 1)!}(x − x_0)*(x − x_1)*...*(x − x_n)$, el cual es de orden $O(h^5)$ pues se consideran 5 puntos. Sabemos que los coeficientes son derivadas de estos polinomios con error $O(h^5)$, por lo que se baja el grado del error por 1 (se elimina el error de orden 5). El error total de esta aproximación entonces será $O(h^4)$."
   ]
  },
  {
   "cell_type": "code",
   "execution_count": null,
   "id": "25f69227",
   "metadata": {},
   "outputs": [],
   "source": []
  }
 ],
 "metadata": {
  "kernelspec": {
   "display_name": "Python 3 (ipykernel)",
   "language": "python",
   "name": "python3"
  },
  "language_info": {
   "codemirror_mode": {
    "name": "ipython",
    "version": 3
   },
   "file_extension": ".py",
   "mimetype": "text/x-python",
   "name": "python",
   "nbconvert_exporter": "python",
   "pygments_lexer": "ipython3",
   "version": "3.9.13"
  }
 },
 "nbformat": 4,
 "nbformat_minor": 5
}
